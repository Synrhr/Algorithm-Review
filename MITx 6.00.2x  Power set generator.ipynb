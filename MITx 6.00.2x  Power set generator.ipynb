{
 "cells": [
  {
   "cell_type": "markdown",
   "metadata": {},
   "source": [
    "# MITx: 6.00.2x \n",
    "## Power set generator\n"
   ]
  },
  {
   "cell_type": "markdown",
   "metadata": {},
   "source": [
    "### Case 1 - n items & 1 bag\n",
    "Utilitze binary numbers to generate powerset"
   ]
  },
  {
   "cell_type": "code",
   "execution_count": 111,
   "metadata": {
    "collapsed": true
   },
   "outputs": [],
   "source": [
    "# generate all combinations of N items\n",
    "def powerSet(items):\n",
    "    \n",
    "    '''\n",
    "    suppose we have a generator that returns every combination of objects in ONE bag. \n",
    "    We can represent this as a list of 1s and 0s denoting whether each item is in the bag or not.\n",
    "    '''       \n",
    "    \n",
    "    N = len(items)\n",
    "    # enumerate the 2**N possible combinations\n",
    "    for i in range(2**N):\n",
    "        combo = []\n",
    "        for j in range(N):\n",
    "            # test bit jth of integer i\n",
    "            if (i >> j) % 2 == 1:\n",
    "                combo.append(items[j])\n",
    "        yield combo\n",
    "\n"
   ]
  },
  {
   "cell_type": "markdown",
   "metadata": {},
   "source": [
    "### Case 2 - n items & 2 bags\n",
    "Utilize Trinary numbers (which is tricky) to generate powerset "
   ]
  },
  {
   "cell_type": "code",
   "execution_count": 113,
   "metadata": {
    "collapsed": true
   },
   "outputs": [],
   "source": [
    "# Answer:\n",
    "def yieldAllCombos(items):\n",
    "    \"\"\"\n",
    "    Generates all combinations of N items into two bags, whereby each item is in one or zero bags.\n",
    "\n",
    "    Yields a tuple, (bag1, bag2), where each bag is represented as a list of which item(s) are in each bag.\n",
    "    \"\"\"\n",
    "    N = len(items)\n",
    "    # Enumerate the 3**N possible combinations   \n",
    "    for i in range(3**N):\n",
    "        bag1 = []\n",
    "        bag2 = []\n",
    "        for j in range(N):\n",
    "            if (i // (3 ** j)) % 3 == 1:    \n",
    "                bag1.append(items[j])\n",
    "            elif (i // (3 ** j)) % 3 == 2:\n",
    "                bag2.append(items[j])\n",
    "        yield (bag1, bag2)"
   ]
  }
 ],
 "metadata": {
  "kernelspec": {
   "display_name": "Python 3",
   "language": "python",
   "name": "python3"
  },
  "language_info": {
   "codemirror_mode": {
    "name": "ipython",
    "version": 3
   },
   "file_extension": ".py",
   "mimetype": "text/x-python",
   "name": "python",
   "nbconvert_exporter": "python",
   "pygments_lexer": "ipython3",
   "version": "3.6.1"
  }
 },
 "nbformat": 4,
 "nbformat_minor": 2
}
