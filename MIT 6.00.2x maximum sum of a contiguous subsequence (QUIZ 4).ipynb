{
 "cells": [
  {
   "cell_type": "code",
   "execution_count": 45,
   "metadata": {},
   "outputs": [],
   "source": [
    "def max_contig_sum(L):\n",
    "    \"\"\" L, a list of integers, at least one positive\n",
    "    Returns the maximum sum of a contiguous subsequence in L \"\"\"\n",
    "    #YOUR CODE HERE\n",
    "    max_num = 0\n",
    "    flag = 0\n",
    "    for i in range(0,len(L)):\n",
    "        flag = L[i]\n",
    "        if flag > max_num:\n",
    "            max_num = flag\n",
    "        \n",
    "        j = i+1\n",
    "        while(j<len(L)):\n",
    "            flag += L[j] \n",
    "            if flag > max_num:\n",
    "                max_num = flag\n",
    "            j += 1\n",
    "    return max_num\n",
    "            "
   ]
  },
  {
   "cell_type": "code",
   "execution_count": 46,
   "metadata": {},
   "outputs": [
    {
     "data": {
      "text/plain": [
       "11"
      ]
     },
     "execution_count": 46,
     "metadata": {},
     "output_type": "execute_result"
    }
   ],
   "source": [
    "max_contig_sum([3, 4, -1, 5, -4])"
   ]
  },
  {
   "cell_type": "code",
   "execution_count": 47,
   "metadata": {},
   "outputs": [
    {
     "data": {
      "text/plain": [
       "16"
      ]
     },
     "execution_count": 47,
     "metadata": {},
     "output_type": "execute_result"
    }
   ],
   "source": [
    "max_contig_sum([3, 4, -8, 15, -1, 2])"
   ]
  },
  {
   "cell_type": "code",
   "execution_count": null,
   "metadata": {
    "collapsed": true
   },
   "outputs": [],
   "source": []
  }
 ],
 "metadata": {
  "kernelspec": {
   "display_name": "Python 3",
   "language": "python",
   "name": "python3"
  },
  "language_info": {
   "codemirror_mode": {
    "name": "ipython",
    "version": 3
   },
   "file_extension": ".py",
   "mimetype": "text/x-python",
   "name": "python",
   "nbconvert_exporter": "python",
   "pygments_lexer": "ipython3",
   "version": "3.6.1"
  }
 },
 "nbformat": 4,
 "nbformat_minor": 2
}
